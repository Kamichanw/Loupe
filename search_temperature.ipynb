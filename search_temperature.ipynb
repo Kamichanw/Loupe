{
 "cells": [
  {
   "cell_type": "markdown",
   "id": "d715d8d7",
   "metadata": {},
   "source": [
    "# Search Temperature Coef for Calibration\n"
   ]
  }
 ],
 "metadata": {
  "language_info": {
   "name": "python"
  }
 },
 "nbformat": 4,
 "nbformat_minor": 5
}
