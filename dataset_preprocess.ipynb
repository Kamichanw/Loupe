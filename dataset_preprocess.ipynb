{
 "cells": [
  {
   "cell_type": "markdown",
   "id": "531bfd29",
   "metadata": {},
   "source": [
    "In this notebook, we transform raw datasets to parquet format to enable faster loading speed during training and evaluation.\n",
    "\n",
    "The raw format of released datasets is as follows:\n",
    "```python\n",
    "# train set\n",
    "/train/real/...\n",
    "/train/fake/...\n",
    "/train/masks/...\n",
    "# valid set\n",
    "/valid/real/...\n",
    "/valid/fake/...\n",
    "/valid/masks/...\n",
    "```"
   ]
  },
  {
   "cell_type": "code",
   "execution_count": 13,
   "id": "8bd7e9d5",
   "metadata": {},
   "outputs": [],
   "source": [
    "import os\n",
    "from datasets import Dataset, DatasetDict\n",
    "from datasets import Features, Image, Value\n",
    "from typing import List, Optional\n",
    "\n",
    "\n",
    "def load_images_from_dir(directory: str) -> List[str]:\n",
    "    return [\n",
    "        os.path.join(directory, fname)\n",
    "        for fname in os.listdir(directory)\n",
    "        if fname.endswith((\"jpg\", \"jpeg\", \"png\"))\n",
    "    ]\n",
    "\n",
    "\n",
    "def create_split(root_dir: str, split: str) -> Optional[Dataset]:\n",
    "    try:\n",
    "        if split == \"test\":\n",
    "            image_dir = os.path.join(root_dir, split)\n",
    "            images = load_images_from_dir(image_dir)\n",
    "            print(f\"Split: {split}, Images: {len(images)}\")\n",
    "            return Dataset.from_dict(\n",
    "                {\"path\": images, \"image\": images},\n",
    "                features=Features({\"path\": Value(dtype=\"string\"), \"image\": Image()}),\n",
    "            )\n",
    "        fake_dir = os.path.join(root_dir, split, \"fake\")\n",
    "        masks_dir = os.path.join(root_dir, split, \"masks\")\n",
    "        real_dir = os.path.join(root_dir, split, \"real\")\n",
    "\n",
    "        fake_images = load_images_from_dir(fake_dir)\n",
    "        mask_images = load_images_from_dir(masks_dir)\n",
    "        real_images = load_images_from_dir(real_dir)\n",
    "        print(\n",
    "            f\"Split: {split}, Fake images: {len(fake_images)}, Masks: {len(mask_images)}, Real images: {len(real_images)}\"\n",
    "        )\n",
    "        assert len(fake_images) == len(mask_images)\n",
    "\n",
    "        return Dataset.from_dict(\n",
    "            {\n",
    "                \"path\": fake_images + real_images,\n",
    "                \"image\": fake_images + real_images,\n",
    "                \"mask\": mask_images + [None] * len(real_images),\n",
    "            },\n",
    "            features=Features(\n",
    "                {\"path\": Value(dtype=\"string\"), \"image\": Image(), \"mask\": Image()}\n",
    "            ),\n",
    "        )\n",
    "    except Exception as e:\n",
    "        print(f\"Error processing split {split}: {e}\")\n",
    "        return None\n",
    "\n",
    "\n",
    "def create_dataset(root_dir: str) -> DatasetDict:\n",
    "    return DatasetDict(\n",
    "        {\n",
    "            split: d\n",
    "            for split in [\"train\", \"valid\", \"test\"]\n",
    "            if (d := create_split(root_dir, split)) is not None\n",
    "        }\n",
    "    )\n",
    "\n",
    "\n",
    "root_dir = \"/gemini/space/lye/track1\"\n",
    "save_dir = \"/gemini/space/jyc/track1\""
   ]
  },
  {
   "cell_type": "markdown",
   "id": "a1d6f1c7",
   "metadata": {},
   "source": [
    "We merge `real/` and `fake/` into `images` column for simplity. A image is real if there is no corresponding mask."
   ]
  },
  {
   "cell_type": "code",
   "execution_count": 14,
   "id": "07009f1e",
   "metadata": {},
   "outputs": [
    {
     "name": "stdout",
     "output_type": "stream",
     "text": [
      "Split: train, Fake images: 798831, Masks: 798831, Real images: 156100\n",
      "Split: valid, Fake images: 199708, Masks: 199708, Real images: 39025\n",
      "Split: test, Images: 222847\n"
     ]
    },
    {
     "data": {
      "text/plain": [
       "DatasetDict({\n",
       "    train: Dataset({\n",
       "        features: ['path', 'image', 'mask'],\n",
       "        num_rows: 954931\n",
       "    })\n",
       "    valid: Dataset({\n",
       "        features: ['path', 'image', 'mask'],\n",
       "        num_rows: 238733\n",
       "    })\n",
       "    test: Dataset({\n",
       "        features: ['path', 'image'],\n",
       "        num_rows: 222847\n",
       "    })\n",
       "})"
      ]
     },
     "execution_count": 14,
     "metadata": {},
     "output_type": "execute_result"
    }
   ],
   "source": [
    "dataset = create_dataset(root_dir)\n",
    "dataset"
   ]
  },
  {
   "cell_type": "markdown",
   "id": "3aa7de84",
   "metadata": {},
   "source": [
    "Then save processed datasets to parquet."
   ]
  },
  {
   "cell_type": "code",
   "execution_count": 15,
   "id": "cd6b20bc",
   "metadata": {},
   "outputs": [
    {
     "name": "stderr",
     "output_type": "stream",
     "text": [
      "Creating parquet from Arrow format: 100%|██████████| 9550/9550 [00:01<00:00, 4956.62ba/s]\n"
     ]
    },
    {
     "name": "stdout",
     "output_type": "stream",
     "text": [
      "Saved train split to /gemini/space/jyc/track1/train.parquet\n"
     ]
    },
    {
     "name": "stderr",
     "output_type": "stream",
     "text": [
      "Creating parquet from Arrow format: 100%|██████████| 2388/2388 [00:00<00:00, 4971.15ba/s]\n"
     ]
    },
    {
     "name": "stdout",
     "output_type": "stream",
     "text": [
      "Saved valid split to /gemini/space/jyc/track1/valid.parquet\n"
     ]
    },
    {
     "name": "stderr",
     "output_type": "stream",
     "text": [
      "Creating parquet from Arrow format: 100%|██████████| 2229/2229 [00:00<00:00, 7133.34ba/s]\n"
     ]
    },
    {
     "name": "stdout",
     "output_type": "stream",
     "text": [
      "Saved test split to /gemini/space/jyc/track1/test.parquet\n"
     ]
    }
   ],
   "source": [
    "os.makedirs(save_dir, exist_ok=True)\n",
    "for split in dataset:\n",
    "    dataset[split].to_parquet(os.path.join(save_dir, f\"{split}.parquet\"))\n",
    "    print(f\"Saved {split} split to {save_dir}/{split}.parquet\")"
   ]
  },
  {
   "cell_type": "markdown",
   "id": "f63933c8",
   "metadata": {},
   "source": [
    "Load from processed datasets to do whatever you want."
   ]
  },
  {
   "cell_type": "code",
   "execution_count": null,
   "id": "4af7f346",
   "metadata": {},
   "outputs": [],
   "source": [
    "import os\n",
    "from datasets import load_dataset\n",
    "\n",
    "validset = load_dataset(\n",
    "    \"parquet\", data_files=os.path.join(save_dir, \"valid.parquet\")\n",
    ")\n",
    "validset"
   ]
  }
 ],
 "metadata": {
  "kernelspec": {
   "display_name": "loupe",
   "language": "python",
   "name": "python3"
  },
  "language_info": {
   "codemirror_mode": {
    "name": "ipython",
    "version": 3
   },
   "file_extension": ".py",
   "mimetype": "text/x-python",
   "name": "python",
   "nbconvert_exporter": "python",
   "pygments_lexer": "ipython3",
   "version": "3.11.11"
  }
 },
 "nbformat": 4,
 "nbformat_minor": 5
}
