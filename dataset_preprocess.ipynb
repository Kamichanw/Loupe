{
 "cells": [
  {
   "cell_type": "markdown",
   "id": "531bfd29",
   "metadata": {},
   "source": [
    "In this notebook, we transform raw datasets to parquet format to enable faster loading speed during training and evaluation.\n",
    "\n",
    "The raw format of released datasets is as follows:\n",
    "```python\n",
    "# train set\n",
    "/train/real/...\n",
    "/train/fake/...\n",
    "/train/masks/...\n",
    "# valid set\n",
    "/valid/real/...\n",
    "/valid/fake/...\n",
    "/valid/masks/...\n",
    "```"
   ]
  },
  {
   "cell_type": "code",
   "execution_count": 1,
   "id": "8bd7e9d5",
   "metadata": {},
   "outputs": [
    {
     "name": "stderr",
     "output_type": "stream",
     "text": [
      "/root/miniconda3/envs/loupe/lib/python3.12/site-packages/tqdm/auto.py:21: TqdmWarning: IProgress not found. Please update jupyter and ipywidgets. See https://ipywidgets.readthedocs.io/en/stable/user_install.html\n",
      "  from .autonotebook import tqdm as notebook_tqdm\n"
     ]
    }
   ],
   "source": [
    "import os\n",
    "from datasets import Dataset, DatasetDict\n",
    "from datasets import Features, Image\n",
    "from typing import List\n",
    "\n",
    "\n",
    "def load_images_from_dir(directory: str) -> List[str]:\n",
    "    return [\n",
    "        os.path.join(directory, fname)\n",
    "        for fname in os.listdir(directory)\n",
    "        if fname.endswith((\"jpg\", \"jpeg\", \"png\"))\n",
    "    ]\n",
    "\n",
    "\n",
    "def create_split(root_dir: str, split: str) -> Dataset:\n",
    "    fake_dir = os.path.join(root_dir, split, \"fake\")\n",
    "    masks_dir = os.path.join(root_dir, split, \"masks\")\n",
    "    real_dir = os.path.join(root_dir, split, \"real\")\n",
    "\n",
    "    fake_images = load_images_from_dir(fake_dir)\n",
    "    mask_images = load_images_from_dir(masks_dir)\n",
    "    real_images = load_images_from_dir(real_dir)\n",
    "\n",
    "    assert len(fake_images) == len(mask_images)\n",
    "\n",
    "    return Dataset.from_dict(\n",
    "        {\n",
    "            \"image\": fake_images + real_images,\n",
    "            \"mask\": mask_images + [None] * len(real_images),\n",
    "        },\n",
    "        features=Features(\n",
    "            {\"image\": Image(), \"mask\": Image()}\n",
    "        ),\n",
    "    )\n",
    "\n",
    "\n",
    "def create_dataset(root_dir: str) -> DatasetDict:\n",
    "    train_dataset = create_split(root_dir, split=\"train\")\n",
    "    valid_dataset = create_split(root_dir, split=\"valid\")\n",
    "\n",
    "    return DatasetDict({\"train\": train_dataset, \"valid\": valid_dataset})\n",
    "\n",
    "root_dir = \"/gemini/space/lye/track1\""
   ]
  },
  {
   "cell_type": "markdown",
   "id": "a1d6f1c7",
   "metadata": {},
   "source": [
    "We merge `real/` and `fake/` into `images` column for simplity. A image is real if there is no corresponding mask."
   ]
  },
  {
   "cell_type": "code",
   "execution_count": null,
   "id": "07009f1e",
   "metadata": {},
   "outputs": [
    {
     "data": {
      "text/plain": [
       "DatasetDict({\n",
       "    train: Dataset({\n",
       "        features: ['image', 'mask'],\n",
       "        num_rows: 954931\n",
       "    })\n",
       "    valid: Dataset({\n",
       "        features: ['image', 'mask'],\n",
       "        num_rows: 238733\n",
       "    })\n",
       "})"
      ]
     },
     "execution_count": 2,
     "metadata": {},
     "output_type": "execute_result"
    }
   ],
   "source": [
    "dataset = create_dataset(root_dir)\n",
    "dataset"
   ]
  },
  {
   "cell_type": "markdown",
   "id": "3aa7de84",
   "metadata": {},
   "source": [
    "Then save processed datasets to parquet."
   ]
  },
  {
   "cell_type": "code",
   "execution_count": null,
   "id": "cd6b20bc",
   "metadata": {},
   "outputs": [],
   "source": [
    "trainset = dataset[\"train\"]\n",
    "validset = dataset[\"valid\"]\n",
    "trainset.to_parquet(os.path.join(root_dir, \"train.parquet\"))\n",
    "validset.to_parquet(os.path.join(root_dir, \"valid.parquet\"))"
   ]
  },
  {
   "cell_type": "markdown",
   "id": "f63933c8",
   "metadata": {},
   "source": [
    "Load from processed datasets to do whatever you want."
   ]
  },
  {
   "cell_type": "code",
   "execution_count": 4,
   "id": "4af7f346",
   "metadata": {},
   "outputs": [
    {
     "name": "stderr",
     "output_type": "stream",
     "text": [
      "Generating train split: 238733 examples [00:00, 596829.16 examples/s]\n"
     ]
    },
    {
     "data": {
      "text/plain": [
       "DatasetDict({\n",
       "    train: Dataset({\n",
       "        features: ['image', 'mask'],\n",
       "        num_rows: 238733\n",
       "    })\n",
       "})"
      ]
     },
     "execution_count": 4,
     "metadata": {},
     "output_type": "execute_result"
    }
   ],
   "source": [
    "from datasets import load_dataset\n",
    "validset = load_dataset(\"parquet\", data_files=os.path.join(\"/gemini/space/jyc/track1\", \"valid.parquet\"))\n",
    "validset"
   ]
  }
 ],
 "metadata": {
  "kernelspec": {
   "display_name": "loupe",
   "language": "python",
   "name": "python3"
  },
  "language_info": {
   "codemirror_mode": {
    "name": "ipython",
    "version": 3
   },
   "file_extension": ".py",
   "mimetype": "text/x-python",
   "name": "python",
   "nbconvert_exporter": "python",
   "pygments_lexer": "ipython3",
   "version": "3.12.2"
  }
 },
 "nbformat": 4,
 "nbformat_minor": 5
}
