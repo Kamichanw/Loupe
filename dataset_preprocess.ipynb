{
 "cells": [
  {
   "cell_type": "markdown",
   "id": "531bfd29",
   "metadata": {},
   "source": [
    "In this notebook, we transform raw datasets to parquet format to enable faster loading speed during training and evaluation.\n",
    "\n",
    "The raw format of released datasets is as follows:\n",
    "```python\n",
    "# train set\n",
    "/train/real/...\n",
    "/train/fake/...\n",
    "/train/masks/...\n",
    "# valid set\n",
    "/valid/real/...\n",
    "/valid/fake/...\n",
    "/valid/masks/...\n",
    "```"
   ]
  },
  {
   "cell_type": "code",
   "execution_count": 1,
   "id": "8bd7e9d5",
   "metadata": {},
   "outputs": [
    {
     "name": "stderr",
     "output_type": "stream",
     "text": [
      "/root/miniconda3/envs/loupe/lib/python3.12/site-packages/tqdm/auto.py:21: TqdmWarning: IProgress not found. Please update jupyter and ipywidgets. See https://ipywidgets.readthedocs.io/en/stable/user_install.html\n",
      "  from .autonotebook import tqdm as notebook_tqdm\n"
     ]
    }
   ],
   "source": [
    "import os\n",
    "from datasets import Dataset, DatasetDict\n",
    "from datasets import Features, Image\n",
    "from typing import List\n",
    "\n",
    "\n",
    "def load_images_from_dir(directory: str) -> List[str]:\n",
    "    return [\n",
    "        os.path.join(directory, fname)\n",
    "        for fname in os.listdir(directory)\n",
    "        if fname.endswith((\"jpg\", \"jpeg\", \"png\"))\n",
    "    ]\n",
    "\n",
    "\n",
    "def create_split(root_dir: str, split: str) -> Dataset:\n",
    "    fake_dir = os.path.join(root_dir, split, \"fake\")\n",
    "    masks_dir = os.path.join(root_dir, split, \"masks\")\n",
    "    real_dir = os.path.join(root_dir, split, \"real\")\n",
    "\n",
    "    fake_images = load_images_from_dir(fake_dir)\n",
    "    mask_images = load_images_from_dir(masks_dir)\n",
    "    real_images = load_images_from_dir(real_dir)\n",
    "\n",
    "    assert len(fake_images) == len(mask_images)\n",
    "\n",
    "    return Dataset.from_dict(\n",
    "        {\n",
    "            \"image\": fake_images + real_images,\n",
    "            \"mask\": mask_images + [None] * len(real_images),\n",
    "        },\n",
    "        features=Features(\n",
    "            {\"image\": Image(), \"mask\": Image()}\n",
    "        ),\n",
    "    )\n",
    "\n",
    "\n",
    "def create_dataset(root_dir: str) -> DatasetDict:\n",
    "    train_dataset = create_split(root_dir, split=\"train\")\n",
    "    valid_dataset = create_split(root_dir, split=\"valid\")\n",
    "\n",
    "    return DatasetDict({\"train\": train_dataset, \"valid\": valid_dataset})\n",
    "\n",
    "root_dir = \"/gemini/space/lye/track1\""
   ]
  },
  {
   "cell_type": "markdown",
   "id": "a1d6f1c7",
   "metadata": {},
   "source": [
    "We merge `real/` and `fake/` into `images` column for simplity. A image is real if there is no corresponding mask."
   ]
  },
  {
   "cell_type": "code",
   "execution_count": null,
   "id": "07009f1e",
   "metadata": {},
   "outputs": [
    {
     "data": {
      "text/plain": [
       "DatasetDict({\n",
       "    train: Dataset({\n",
       "        features: ['image', 'mask'],\n",
       "        num_rows: 954931\n",
       "    })\n",
       "    valid: Dataset({\n",
       "        features: ['image', 'mask'],\n",
       "        num_rows: 238733\n",
       "    })\n",
       "})"
      ]
     },
     "execution_count": 2,
     "metadata": {},
     "output_type": "execute_result"
    }
   ],
   "source": [
    "dataset = create_dataset(root_dir)\n",
    "dataset"
   ]
  },
  {
   "cell_type": "markdown",
   "id": "3aa7de84",
   "metadata": {},
   "source": [
    "Then save processed datasets to parquet."
   ]
  },
  {
   "cell_type": "code",
   "execution_count": null,
   "id": "cd6b20bc",
   "metadata": {},
   "outputs": [],
   "source": [
    "trainset = dataset[\"train\"]\n",
    "validset = dataset[\"valid\"]\n",
    "trainset.to_parquet(os.path.join(root_dir, \"train.parquet\"))\n",
    "validset.to_parquet(os.path.join(root_dir, \"valid.parquet\"))"
   ]
  },
  {
   "cell_type": "markdown",
   "id": "f63933c8",
   "metadata": {},
   "source": [
    "Load from processed datasets to do whatever you want."
   ]
  },
  {
   "cell_type": "code",
   "execution_count": 14,
   "id": "4af7f346",
   "metadata": {},
   "outputs": [
    {
     "data": {
      "text/plain": [
       "DatasetDict({\n",
       "    train: Dataset({\n",
       "        features: ['image', 'mask'],\n",
       "        num_rows: 238733\n",
       "    })\n",
       "})"
      ]
     },
     "execution_count": 14,
     "metadata": {},
     "output_type": "execute_result"
    }
   ],
   "source": [
    "import os\n",
    "from datasets import load_dataset\n",
    "\n",
    "validset = load_dataset(\n",
    "    \"parquet\", data_files=os.path.join(\"/gemini/space/jyc/track1\", \"valid.parquet\")\n",
    ")\n",
    "validset"
   ]
  },
  {
   "cell_type": "code",
   "execution_count": 7,
   "id": "86e6e14d",
   "metadata": {},
   "outputs": [
    {
     "name": "stderr",
     "output_type": "stream",
     "text": [
      "/tmp/ipykernel_447621/989117794.py:2: UserWarning: \n",
      "The version_base parameter is not specified.\n",
      "Please specify a compatability version level, or None.\n",
      "Will assume defaults for version 1.1\n",
      "  hydra.initialize(config_path=\"configs\")\n"
     ]
    },
    {
     "data": {
      "text/plain": [
       "hydra.initialize()"
      ]
     },
     "execution_count": 7,
     "metadata": {},
     "output_type": "execute_result"
    }
   ],
   "source": [
    "\n",
    "import hydra\n",
    "hydra.initialize(config_path=\"configs\")"
   ]
  },
  {
   "cell_type": "code",
   "execution_count": null,
   "id": "6e2531b2",
   "metadata": {},
   "outputs": [
    {
     "name": "stderr",
     "output_type": "stream",
     "text": [
      "\u001b[32m2025-05-07 23:40:55.921\u001b[0m | \u001b[1mINFO    \u001b[0m | \u001b[36mmodels.loupe.modeling_loupe\u001b[0m:\u001b[36m__init__\u001b[0m:\u001b[36m511\u001b[0m - \u001b[1mLoading backbone from results/checkpoints/loupe-epoch=0-val_loss=7.8660.ckpt/output_dir/model.safetensors\u001b[0m\n"
     ]
    }
   ],
   "source": [
    "import sys\n",
    "\n",
    "from models.loupe.configuration_loupe import LoupeConfig\n",
    "from models.loupe.modeling_loupe import LoupeModel\n",
    "sys.path.insert(0, \"./src\")\n",
    "from lit_model import LitModel\n",
    "\n",
    "cfg = hydra.compose(config_name=\"base.yaml\", overrides=[\"stage=seg\"])\n",
    "cfg.model.backbone_path = \"results/checkpoints/loupe-epoch=0-val_loss=7.8660.ckpt/output_dir/model.safetensors\"\n",
    "loupe_config = LoupeConfig(stage=cfg.stage.name, **cfg.model)\n",
    "model = LoupeModel(loupe_config)\n",
    "model = LitModel(cfg, model)"
   ]
  },
  {
   "cell_type": "code",
   "execution_count": 16,
   "id": "1eca07c6",
   "metadata": {},
   "outputs": [
    {
     "data": {
      "image/jpeg": "[encoded data removed]",
      "image/png": "[encoded data removed]",
      "text/plain": [
       "<PIL.PngImagePlugin.PngImageFile image mode=L size=512x512>"
      ]
     },
     "execution_count": 16,
     "metadata": {},
     "output_type": "execute_result"
    }
   ],
   "source": [
    "image, mask = validset[\"train\"][0][\"image\"], validset[\"train\"][0][\"mask\"]\n",
    "mask"
   ]
  },
  {
   "cell_type": "code",
   "execution_count": 20,
   "id": "5e2a2cc7",
   "metadata": {},
   "outputs": [],
   "source": [
    "import torch\n",
    "\n",
    "\n",
    "pixel_values = model.processor(image)['pixel_values'][0]\n",
    "with torch.no_grad():\n",
    "    outputs = model(pixel_values.unsqueeze(0), None, None, None)"
   ]
  },
  {
   "cell_type": "code",
   "execution_count": 34,
   "id": "5a78ef3d",
   "metadata": {},
   "outputs": [],
   "source": [
    "class_queries_logits = outputs[\"class_queries_logits\"]  # [batch_size, num_queries, num_classes]\n",
    "masks_queries_logits = outputs[\"masks_queries_logits\"]  # [batch_size, num_queries, height, width]\n",
    "masks_classes = class_queries_logits.softmax(dim=-1)[..., :-1]\n",
    "masks_probs = (\n",
    "    masks_queries_logits.sigmoid()\n",
    ")  # [batch_size, num_queries, height, width]\n",
    "\n",
    "# Semantic segmentation logits of shape (batch_size, num_classes, height, width)\n",
    "segmentation = torch.einsum(\"bqc, bqhw -> bchw\", masks_classes, masks_probs)"
   ]
  },
  {
   "cell_type": "code",
   "execution_count": 45,
   "id": "89a342c3",
   "metadata": {},
   "outputs": [
    {
     "data": {
      "text/plain": [
       "tensor([[[[2.2471e-11, 5.1859e-12, 1.0466e-11,  ..., 2.2691e-11,\n",
       "           2.7380e-11, 7.6330e-12],\n",
       "          [2.2168e-11, 1.1153e-10, 1.1145e-11,  ..., 8.3585e-11,\n",
       "           4.6092e-11, 3.7372e-11],\n",
       "          [2.6748e-11, 1.4359e-11, 2.2273e-11,  ..., 4.9178e-11,\n",
       "           2.7871e-10, 2.2155e-11],\n",
       "          ...,\n",
       "          [1.0969e-09, 9.6234e-10, 7.9608e-09,  ..., 4.1182e-09,\n",
       "           1.1809e-09, 3.6254e-09],\n",
       "          [4.9677e-10, 5.3348e-09, 2.4710e-09,  ..., 1.9082e-09,\n",
       "           1.6144e-09, 8.7366e-10],\n",
       "          [2.9654e-09, 7.5575e-10, 7.5556e-09,  ..., 4.9987e-09,\n",
       "           1.8747e-09, 2.2270e-09]]]])"
      ]
     },
     "execution_count": 45,
     "metadata": {},
     "output_type": "execute_result"
    }
   ],
   "source": [
    "segmentation.shape\n",
    "semantic_segmentation = segmentation.argmax(dim=1)\n",
    "semantic_segmentation.shape\n",
    "# semantic_segmentation = [\n",
    "#     semantic_segmentation[i] for i in range(semantic_segmentation.shape[0])\n",
    "# ]\n",
    "segmentation"
   ]
  },
  {
   "cell_type": "code",
   "execution_count": 32,
   "id": "97ab8549",
   "metadata": {},
   "outputs": [
    {
     "data": {
      "image/jpeg": "[encoded data removed]",
      "image/png": "[encoded data removed]",
      "text/plain": [
       "<PIL.Image.Image image mode=L size=384x384>"
      ]
     },
     "metadata": {},
     "output_type": "display_data"
    }
   ],
   "source": [
    "from PIL import Image\n",
    "pred = model.processor.post_process_segmentation(\n",
    "    outputs[\"class_queries_logits\"], outputs[\"masks_queries_logits\"]\n",
    ")[0]\n",
    "numpy_array = pred.numpy()\n",
    "image = Image.fromarray(numpy_array * 255, mode=\"L\")\n",
    "image.show()"
   ]
  }
 ],
 "metadata": {
  "kernelspec": {
   "display_name": "loupe",
   "language": "python",
   "name": "python3"
  },
  "language_info": {
   "codemirror_mode": {
    "name": "ipython",
    "version": 3
   },
   "file_extension": ".py",
   "mimetype": "text/x-python",
   "name": "python",
   "nbconvert_exporter": "python",
   "pygments_lexer": "ipython3",
   "version": "3.12.2"
  }
 },
 "nbformat": 4,
 "nbformat_minor": 5
}
