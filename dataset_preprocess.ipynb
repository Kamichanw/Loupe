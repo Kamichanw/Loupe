{
 "cells": [
  {
   "cell_type": "markdown",
   "id": "531bfd29",
   "metadata": {},
   "source": [
    "In this notebook, we transform raw datasets to parquet format to enable faster loading speed during training and evaluation.\n",
    "\n",
    "The raw format of released datasets is as follows:\n",
    "```python\n",
    "# train set\n",
    "/train/real/...\n",
    "/train/fake/...\n",
    "/train/masks/...\n",
    "# valid set\n",
    "/valid/real/...\n",
    "/valid/fake/...\n",
    "/valid/masks/...\n",
    "```"
   ]
  },
  {
   "cell_type": "code",
   "execution_count": 1,
   "id": "8bd7e9d5",
   "metadata": {},
   "outputs": [
    {
     "name": "stderr",
     "output_type": "stream",
     "text": [
      "/root/miniconda3/envs/loupe/lib/python3.12/site-packages/tqdm/auto.py:21: TqdmWarning: IProgress not found. Please update jupyter and ipywidgets. See https://ipywidgets.readthedocs.io/en/stable/user_install.html\n",
      "  from .autonotebook import tqdm as notebook_tqdm\n"
     ]
    }
   ],
   "source": [
    "import os\n",
    "from datasets import Dataset, DatasetDict\n",
    "from datasets import Features, Image\n",
    "from typing import List\n",
    "\n",
    "\n",
    "def load_images_from_dir(directory: str) -> List[str]:\n",
    "    return [\n",
    "        os.path.join(directory, fname)\n",
    "        for fname in os.listdir(directory)\n",
    "        if fname.endswith((\"jpg\", \"jpeg\", \"png\"))\n",
    "    ]\n",
    "\n",
    "\n",
    "def create_split(root_dir: str, split: str) -> Dataset:\n",
    "    fake_dir = os.path.join(root_dir, split, \"fake\")\n",
    "    masks_dir = os.path.join(root_dir, split, \"masks\")\n",
    "    real_dir = os.path.join(root_dir, split, \"real\")\n",
    "\n",
    "    fake_images = load_images_from_dir(fake_dir)\n",
    "    mask_images = load_images_from_dir(masks_dir)\n",
    "    real_images = load_images_from_dir(real_dir)\n",
    "\n",
    "    assert len(fake_images) == len(mask_images)\n",
    "\n",
    "    return Dataset.from_dict(\n",
    "        {\n",
    "            \"image\": fake_images + real_images,\n",
    "            \"mask\": mask_images + [None] * len(real_images),\n",
    "        },\n",
    "        features=Features(\n",
    "            {\"image\": Image(), \"mask\": Image()}\n",
    "        ),\n",
    "    )\n",
    "\n",
    "\n",
    "def create_dataset(root_dir: str) -> DatasetDict:\n",
    "    train_dataset = create_split(root_dir, split=\"train\")\n",
    "    valid_dataset = create_split(root_dir, split=\"valid\")\n",
    "\n",
    "    return DatasetDict({\"train\": train_dataset, \"valid\": valid_dataset})\n",
    "\n",
    "root_dir = \"/gemini/space/lye/track1\""
   ]
  },
  {
   "cell_type": "markdown",
   "id": "a1d6f1c7",
   "metadata": {},
   "source": [
    "We merge `real/` and `fake/` into `images` column for simplity. A image is real if there is no corresponding mask."
   ]
  },
  {
   "cell_type": "code",
   "execution_count": null,
   "id": "07009f1e",
   "metadata": {},
   "outputs": [
    {
     "data": {
      "text/plain": [
       "DatasetDict({\n",
       "    train: Dataset({\n",
       "        features: ['image', 'mask'],\n",
       "        num_rows: 954931\n",
       "    })\n",
       "    valid: Dataset({\n",
       "        features: ['image', 'mask'],\n",
       "        num_rows: 238733\n",
       "    })\n",
       "})"
      ]
     },
     "execution_count": 2,
     "metadata": {},
     "output_type": "execute_result"
    }
   ],
   "source": [
    "dataset = create_dataset(root_dir)\n",
    "dataset"
   ]
  },
  {
   "cell_type": "markdown",
   "id": "3aa7de84",
   "metadata": {},
   "source": [
    "Then save processed datasets to parquet."
   ]
  },
  {
   "cell_type": "code",
   "execution_count": null,
   "id": "cd6b20bc",
   "metadata": {},
   "outputs": [],
   "source": [
    "trainset = dataset[\"train\"]\n",
    "validset = dataset[\"valid\"]\n",
    "trainset.to_parquet(os.path.join(root_dir, \"train.parquet\"))\n",
    "validset.to_parquet(os.path.join(root_dir, \"valid.parquet\"))"
   ]
  },
  {
   "cell_type": "markdown",
   "id": "f63933c8",
   "metadata": {},
   "source": [
    "Load from processed datasets to do whatever you want."
   ]
  },
  {
   "cell_type": "code",
   "execution_count": 4,
   "id": "4af7f346",
   "metadata": {},
   "outputs": [
    {
     "name": "stderr",
     "output_type": "stream",
     "text": [
      "Generating train split: 238733 examples [00:00, 596829.16 examples/s]\n"
     ]
    },
    {
     "data": {
      "text/plain": [
       "DatasetDict({\n",
       "    train: Dataset({\n",
       "        features: ['image', 'mask'],\n",
       "        num_rows: 238733\n",
       "    })\n",
       "})"
      ]
     },
     "execution_count": 4,
     "metadata": {},
     "output_type": "execute_result"
    }
   ],
   "source": [
    "from datasets import load_dataset\n",
    "validset = load_dataset(\"parquet\", data_files=os.path.join(\"/gemini/space/jyc/track1\", \"valid.parquet\"))\n",
    "validset"
   ]
  },
  {
   "cell_type": "code",
   "execution_count": null,
   "id": "4187ed94",
   "metadata": {},
   "outputs": [
    {
     "ename": "TypeError",
     "evalue": "PretrainedCfg.__init__() got an unexpected keyword argument 'proj_dim'",
     "output_type": "error",
     "traceback": [
      "\u001b[31m---------------------------------------------------------------------------\u001b[39m",
      "\u001b[31mTypeError\u001b[39m                                 Traceback (most recent call last)",
      "\u001b[36mCell\u001b[39m\u001b[36m \u001b[39m\u001b[32mIn[16]\u001b[39m\u001b[32m, line 7\u001b[39m\n\u001b[32m      4\u001b[39m sys.path.insert(\u001b[32m0\u001b[39m, \u001b[33m\"\u001b[39m\u001b[33m./src\u001b[39m\u001b[33m\"\u001b[39m)\n\u001b[32m      5\u001b[39m \u001b[38;5;28;01mimport\u001b[39;00m\u001b[38;5;250m \u001b[39m\u001b[34;01msrc\u001b[39;00m\u001b[34;01m.\u001b[39;00m\u001b[34;01mmodels\u001b[39;00m\u001b[34;01m.\u001b[39;00m\u001b[34;01mpe\u001b[39;00m\n\u001b[32m----> \u001b[39m\u001b[32m7\u001b[39m model_timm = \u001b[43mtimm\u001b[49m\u001b[43m.\u001b[49m\u001b[43mcreate_model\u001b[49m\u001b[43m(\u001b[49m\n\u001b[32m      8\u001b[39m \u001b[43m    \u001b[49m\u001b[33;43m\"\u001b[39;49m\u001b[33;43mvit_pe_core_large_patch14_336\u001b[39;49m\u001b[33;43m\"\u001b[39;49m\u001b[43m,\u001b[49m\n\u001b[32m      9\u001b[39m \u001b[43m    \u001b[49m\u001b[43mpretrained\u001b[49m\u001b[43m=\u001b[49m\u001b[38;5;28;43;01mTrue\u001b[39;49;00m\u001b[43m,\u001b[49m\n\u001b[32m     10\u001b[39m \u001b[43m    \u001b[49m\u001b[43mpretrained_cfg_overlay\u001b[49m\u001b[43m=\u001b[49m\u001b[38;5;28;43mdict\u001b[39;49m\u001b[43m(\u001b[49m\u001b[43mfile\u001b[49m\u001b[43m=\u001b[49m\u001b[33;43m\"\u001b[39;49m\u001b[33;43m/gemini/code/loupe/pretrained_weights/pe_timm/model.safetensors\u001b[39;49m\u001b[33;43m\"\u001b[39;49m\u001b[43m,\u001b[49m\u001b[43m \u001b[49m\u001b[43mproj_dim\u001b[49m\u001b[43m=\u001b[49m\u001b[38;5;28;43;01mNone\u001b[39;49;00m\u001b[43m)\u001b[49m\u001b[43m,\u001b[49m\n\u001b[32m     11\u001b[39m \u001b[43m)\u001b[49m\n\u001b[32m     12\u001b[39m model_timm = model_timm.cuda()\n",
      "\u001b[36mFile \u001b[39m\u001b[32m~/miniconda3/envs/loupe/lib/python3.12/site-packages/timm/models/_factory.py:126\u001b[39m, in \u001b[36mcreate_model\u001b[39m\u001b[34m(model_name, pretrained, pretrained_cfg, pretrained_cfg_overlay, checkpoint_path, cache_dir, scriptable, exportable, no_jit, **kwargs)\u001b[39m\n\u001b[32m    124\u001b[39m create_fn = model_entrypoint(model_name)\n\u001b[32m    125\u001b[39m \u001b[38;5;28;01mwith\u001b[39;00m set_layer_config(scriptable=scriptable, exportable=exportable, no_jit=no_jit):\n\u001b[32m--> \u001b[39m\u001b[32m126\u001b[39m     model = \u001b[43mcreate_fn\u001b[49m\u001b[43m(\u001b[49m\n\u001b[32m    127\u001b[39m \u001b[43m        \u001b[49m\u001b[43mpretrained\u001b[49m\u001b[43m=\u001b[49m\u001b[43mpretrained\u001b[49m\u001b[43m,\u001b[49m\n\u001b[32m    128\u001b[39m \u001b[43m        \u001b[49m\u001b[43mpretrained_cfg\u001b[49m\u001b[43m=\u001b[49m\u001b[43mpretrained_cfg\u001b[49m\u001b[43m,\u001b[49m\n\u001b[32m    129\u001b[39m \u001b[43m        \u001b[49m\u001b[43mpretrained_cfg_overlay\u001b[49m\u001b[43m=\u001b[49m\u001b[43mpretrained_cfg_overlay\u001b[49m\u001b[43m,\u001b[49m\n\u001b[32m    130\u001b[39m \u001b[43m        \u001b[49m\u001b[43mcache_dir\u001b[49m\u001b[43m=\u001b[49m\u001b[43mcache_dir\u001b[49m\u001b[43m,\u001b[49m\n\u001b[32m    131\u001b[39m \u001b[43m        \u001b[49m\u001b[43m*\u001b[49m\u001b[43m*\u001b[49m\u001b[43mkwargs\u001b[49m\u001b[43m,\u001b[49m\n\u001b[32m    132\u001b[39m \u001b[43m    \u001b[49m\u001b[43m)\u001b[49m\n\u001b[32m    134\u001b[39m \u001b[38;5;28;01mif\u001b[39;00m checkpoint_path:\n\u001b[32m    135\u001b[39m     load_checkpoint(model, checkpoint_path)\n",
      "\u001b[36mFile \u001b[39m\u001b[32m/gemini/code/loupe/src/models/pe/pe_timm.py:622\u001b[39m, in \u001b[36mvit_pe_core_large_patch14_336\u001b[39m\u001b[34m(pretrained, **kwargs)\u001b[39m\n\u001b[32m    609\u001b[39m \u001b[38;5;129m@register_model\u001b[39m\n\u001b[32m    610\u001b[39m \u001b[38;5;28;01mdef\u001b[39;00m\u001b[38;5;250m \u001b[39m\u001b[34mvit_pe_core_large_patch14_336\u001b[39m(pretrained=\u001b[38;5;28;01mFalse\u001b[39;00m, **kwargs):\n\u001b[32m    611\u001b[39m     model_args = \u001b[38;5;28mdict\u001b[39m(\n\u001b[32m    612\u001b[39m         img_size=\u001b[32m336\u001b[39m,\n\u001b[32m    613\u001b[39m         patch_size=\u001b[32m14\u001b[39m,\n\u001b[32m   (...)\u001b[39m\u001b[32m    620\u001b[39m         pool_type=\u001b[33m'\u001b[39m\u001b[33mattn\u001b[39m\u001b[33m'\u001b[39m,\n\u001b[32m    621\u001b[39m     )\n\u001b[32m--> \u001b[39m\u001b[32m622\u001b[39m     \u001b[38;5;28;01mreturn\u001b[39;00m \u001b[43m_create_pe\u001b[49m\u001b[43m(\u001b[49m\u001b[33;43m'\u001b[39;49m\u001b[33;43mvit_pe_core_large_patch14_336\u001b[39;49m\u001b[33;43m'\u001b[39;49m\u001b[43m,\u001b[49m\u001b[43m \u001b[49m\u001b[43mpretrained\u001b[49m\u001b[43m=\u001b[49m\u001b[43mpretrained\u001b[49m\u001b[43m,\u001b[49m\u001b[43m \u001b[49m\u001b[43m*\u001b[49m\u001b[43m*\u001b[49m\u001b[38;5;28;43mdict\u001b[39;49m\u001b[43m(\u001b[49m\u001b[43mmodel_args\u001b[49m\u001b[43m,\u001b[49m\u001b[43m \u001b[49m\u001b[43m*\u001b[49m\u001b[43m*\u001b[49m\u001b[43mkwargs\u001b[49m\u001b[43m)\u001b[49m\u001b[43m)\u001b[49m\n",
      "\u001b[36mFile \u001b[39m\u001b[32m/gemini/code/loupe/src/models/pe/pe_timm.py:580\u001b[39m, in \u001b[36m_create_pe\u001b[39m\u001b[34m(variant, pretrained, **kwargs)\u001b[39m\n\u001b[32m    578\u001b[39m \u001b[38;5;28;01mdef\u001b[39;00m\u001b[38;5;250m \u001b[39m\u001b[34m_create_pe\u001b[39m(variant: \u001b[38;5;28mstr\u001b[39m, pretrained: \u001b[38;5;28mbool\u001b[39m = \u001b[38;5;28;01mFalse\u001b[39;00m, **kwargs) -> PE:\n\u001b[32m    579\u001b[39m     out_indices = kwargs.pop(\u001b[33m'\u001b[39m\u001b[33mout_indices\u001b[39m\u001b[33m'\u001b[39m, \u001b[32m3\u001b[39m)\n\u001b[32m--> \u001b[39m\u001b[32m580\u001b[39m     \u001b[38;5;28;01mreturn\u001b[39;00m \u001b[43mbuild_model_with_cfg\u001b[49m\u001b[43m(\u001b[49m\n\u001b[32m    581\u001b[39m \u001b[43m        \u001b[49m\u001b[43mPE\u001b[49m\u001b[43m,\u001b[49m\n\u001b[32m    582\u001b[39m \u001b[43m        \u001b[49m\u001b[43mvariant\u001b[49m\u001b[43m,\u001b[49m\n\u001b[32m    583\u001b[39m \u001b[43m        \u001b[49m\u001b[43mpretrained\u001b[49m\u001b[43m,\u001b[49m\n\u001b[32m    584\u001b[39m \u001b[43m        \u001b[49m\u001b[43mpretrained_filter_fn\u001b[49m\u001b[43m=\u001b[49m\u001b[43mcheckpoint_filter_fn\u001b[49m\u001b[43m,\u001b[49m\n\u001b[32m    585\u001b[39m \u001b[43m        \u001b[49m\u001b[43mpretrained_strict\u001b[49m\u001b[43m=\u001b[49m\u001b[38;5;28;43;01mFalse\u001b[39;49;00m\u001b[43m,\u001b[49m\u001b[43m \u001b[49m\n\u001b[32m    586\u001b[39m \u001b[43m        \u001b[49m\u001b[38;5;66;43;03m# Remakr: strict=False since original pretrained models don't have rope freqs in nn.modules and samples rope on-the-fly w/ dynamic grid\u001b[39;49;00m\n\u001b[32m    587\u001b[39m \u001b[43m        \u001b[49m\u001b[38;5;66;43;03m# torchscript/timm doesn't support dynamic grid so sample once during model init without overwritten by ckpt loading.\u001b[39;49;00m\n\u001b[32m    588\u001b[39m \u001b[43m        \u001b[49m\u001b[43mfeature_cfg\u001b[49m\u001b[43m=\u001b[49m\u001b[38;5;28;43mdict\u001b[39;49m\u001b[43m(\u001b[49m\u001b[43mout_indices\u001b[49m\u001b[43m=\u001b[49m\u001b[43mout_indices\u001b[49m\u001b[43m,\u001b[49m\u001b[43m \u001b[49m\u001b[43mfeature_cls\u001b[49m\u001b[43m=\u001b[49m\u001b[33;43m'\u001b[39;49m\u001b[33;43mgetter\u001b[39;49m\u001b[33;43m'\u001b[39;49m\u001b[43m)\u001b[49m\u001b[43m,\u001b[49m\n\u001b[32m    589\u001b[39m \u001b[43m        \u001b[49m\u001b[43m*\u001b[49m\u001b[43m*\u001b[49m\u001b[43mkwargs\u001b[49m\u001b[43m,\u001b[49m\n\u001b[32m    590\u001b[39m \u001b[43m    \u001b[49m\u001b[43m)\u001b[49m\n",
      "\u001b[36mFile \u001b[39m\u001b[32m~/miniconda3/envs/loupe/lib/python3.12/site-packages/timm/models/_builder.py:404\u001b[39m, in \u001b[36mbuild_model_with_cfg\u001b[39m\u001b[34m(model_cls, variant, pretrained, pretrained_cfg, pretrained_cfg_overlay, model_cfg, feature_cfg, pretrained_strict, pretrained_filter_fn, cache_dir, kwargs_filter, **kwargs)\u001b[39m\n\u001b[32m    401\u001b[39m feature_cfg = feature_cfg \u001b[38;5;129;01mor\u001b[39;00m {}\n\u001b[32m    403\u001b[39m \u001b[38;5;66;03m# resolve and update model pretrained config and model kwargs\u001b[39;00m\n\u001b[32m--> \u001b[39m\u001b[32m404\u001b[39m pretrained_cfg = \u001b[43mresolve_pretrained_cfg\u001b[49m\u001b[43m(\u001b[49m\n\u001b[32m    405\u001b[39m \u001b[43m    \u001b[49m\u001b[43mvariant\u001b[49m\u001b[43m,\u001b[49m\n\u001b[32m    406\u001b[39m \u001b[43m    \u001b[49m\u001b[43mpretrained_cfg\u001b[49m\u001b[43m=\u001b[49m\u001b[43mpretrained_cfg\u001b[49m\u001b[43m,\u001b[49m\n\u001b[32m    407\u001b[39m \u001b[43m    \u001b[49m\u001b[43mpretrained_cfg_overlay\u001b[49m\u001b[43m=\u001b[49m\u001b[43mpretrained_cfg_overlay\u001b[49m\n\u001b[32m    408\u001b[39m \u001b[43m\u001b[49m\u001b[43m)\u001b[49m\n\u001b[32m    409\u001b[39m pretrained_cfg = pretrained_cfg.to_dict()\n\u001b[32m    411\u001b[39m _update_default_model_kwargs(pretrained_cfg, kwargs, kwargs_filter)\n",
      "\u001b[36mFile \u001b[39m\u001b[32m~/miniconda3/envs/loupe/lib/python3.12/site-packages/timm/models/_builder.py:358\u001b[39m, in \u001b[36mresolve_pretrained_cfg\u001b[39m\u001b[34m(variant, pretrained_cfg, pretrained_cfg_overlay)\u001b[39m\n\u001b[32m    356\u001b[39m \u001b[38;5;28;01mif\u001b[39;00m \u001b[38;5;129;01mnot\u001b[39;00m pretrained_cfg.architecture:\n\u001b[32m    357\u001b[39m     pretrained_cfg_overlay.setdefault(\u001b[33m'\u001b[39m\u001b[33marchitecture\u001b[39m\u001b[33m'\u001b[39m, variant)\n\u001b[32m--> \u001b[39m\u001b[32m358\u001b[39m pretrained_cfg = \u001b[43mdataclasses\u001b[49m\u001b[43m.\u001b[49m\u001b[43mreplace\u001b[49m\u001b[43m(\u001b[49m\u001b[43mpretrained_cfg\u001b[49m\u001b[43m,\u001b[49m\u001b[43m \u001b[49m\u001b[43m*\u001b[49m\u001b[43m*\u001b[49m\u001b[43mpretrained_cfg_overlay\u001b[49m\u001b[43m)\u001b[49m\n\u001b[32m    360\u001b[39m \u001b[38;5;28;01mreturn\u001b[39;00m pretrained_cfg\n",
      "\u001b[36mFile \u001b[39m\u001b[32m~/miniconda3/envs/loupe/lib/python3.12/dataclasses.py:1579\u001b[39m, in \u001b[36mreplace\u001b[39m\u001b[34m(obj, **changes)\u001b[39m\n\u001b[32m   1572\u001b[39m         changes[f.name] = \u001b[38;5;28mgetattr\u001b[39m(obj, f.name)\n\u001b[32m   1574\u001b[39m \u001b[38;5;66;03m# Create the new object, which calls __init__() and\u001b[39;00m\n\u001b[32m   1575\u001b[39m \u001b[38;5;66;03m# __post_init__() (if defined), using all of the init fields we've\u001b[39;00m\n\u001b[32m   1576\u001b[39m \u001b[38;5;66;03m# added and/or left in 'changes'.  If there are values supplied in\u001b[39;00m\n\u001b[32m   1577\u001b[39m \u001b[38;5;66;03m# changes that aren't fields, this will correctly raise a\u001b[39;00m\n\u001b[32m   1578\u001b[39m \u001b[38;5;66;03m# TypeError.\u001b[39;00m\n\u001b[32m-> \u001b[39m\u001b[32m1579\u001b[39m \u001b[38;5;28;01mreturn\u001b[39;00m \u001b[43mobj\u001b[49m\u001b[43m.\u001b[49m\u001b[34;43m__class__\u001b[39;49m\u001b[43m(\u001b[49m\u001b[43m*\u001b[49m\u001b[43m*\u001b[49m\u001b[43mchanges\u001b[49m\u001b[43m)\u001b[49m\n",
      "\u001b[31mTypeError\u001b[39m: PretrainedCfg.__init__() got an unexpected keyword argument 'proj_dim'"
     ]
    }
   ],
   "source": [
    "import timm\n",
    "import sys\n",
    "\n",
    "sys.path.insert(0, \"./src\")\n",
    "import src.models.pe\n",
    "\n",
    "model_timm = timm.create_model(\n",
    "    \"vit_pe_core_large_patch14_336\",\n",
    "    pretrained=True,\n",
    "    pretrained_cfg_overlay=dict(file=\"/gemini/code/loupe/pretrained_weights/pe_timm/model.safetensors\"),\n",
    ")\n",
    "model_timm = model_timm.cuda()"
   ]
  },
  {
   "cell_type": "code",
   "execution_count": 15,
   "id": "1028e22d",
   "metadata": {},
   "outputs": [
    {
     "data": {
      "text/plain": [
       "{'file': '/gemini/code/loupe/pretrained_weights/pe_timm/model.safetensors',\n",
       " 'hf_hub_id': 'timm/vit_pe_core_large_patch14_336',\n",
       " 'architecture': 'vit_pe_core_large_patch14_336',\n",
       " 'custom_load': False,\n",
       " 'input_size': (3, 336, 336),\n",
       " 'fixed_input_size': True,\n",
       " 'interpolation': 'bilinear',\n",
       " 'crop_pct': 0.875,\n",
       " 'crop_mode': 'center',\n",
       " 'mean': (0.5, 0.5, 0.5),\n",
       " 'std': (0.5, 0.5, 0.5),\n",
       " 'num_classes': 0,\n",
       " 'pool_size': None,\n",
       " 'first_conv': None,\n",
       " 'classifier': None,\n",
       " 'license': 'apache-2.0'}"
      ]
     },
     "execution_count": 15,
     "metadata": {},
     "output_type": "execute_result"
    }
   ],
   "source": [
    "model_timm.default_cfg"
   ]
  }
 ],
 "metadata": {
  "kernelspec": {
   "display_name": "loupe",
   "language": "python",
   "name": "python3"
  },
  "language_info": {
   "codemirror_mode": {
    "name": "ipython",
    "version": 3
   },
   "file_extension": ".py",
   "mimetype": "text/x-python",
   "name": "python",
   "nbconvert_exporter": "python",
   "pygments_lexer": "ipython3",
   "version": "3.12.2"
  }
 },
 "nbformat": 4,
 "nbformat_minor": 5
}
