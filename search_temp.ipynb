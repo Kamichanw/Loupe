{
 "cells": [
  {
   "cell_type": "markdown",
   "id": "6e7a8afa",
   "metadata": {},
   "source": [
    "# Search Calibration Temperature\n"
   ]
  },
  {
   "cell_type": "code",
   "execution_count": null,
   "id": "09b2f6ab",
   "metadata": {},
   "outputs": [],
   "source": []
  }
 ],
 "metadata": {
  "language_info": {
   "name": "python"
  }
 },
 "nbformat": 4,
 "nbformat_minor": 5
}
